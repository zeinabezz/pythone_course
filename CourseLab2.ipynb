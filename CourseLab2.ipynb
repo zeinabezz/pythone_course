{
  "cells": [
    {
      "cell_type": "markdown",
      "metadata": {
        "id": "view-in-github",
        "colab_type": "text"
      },
      "source": [
        "<a href=\"https://colab.research.google.com/github/zeinabezz/pythone_course/blob/main/CourseLab2.ipynb\" target=\"_parent\"><img src=\"https://colab.research.google.com/assets/colab-badge.svg\" alt=\"Open In Colab\"/></a>"
      ]
    },
    {
      "cell_type": "markdown",
      "metadata": {
        "id": "G6BWU9DiTzjM"
      },
      "source": [
        "# The  <font color=blue> **_** </font> variable"
      ]
    },
    {
      "cell_type": "markdown",
      "metadata": {
        "id": "QPL6xJzpTzjR"
      },
      "source": [
        "# The  <font color=blue> **_** </font> variable"
      ]
    },
    {
      "cell_type": "code",
      "execution_count": null,
      "metadata": {
        "id": "rzdPhmgITzjS",
        "outputId": "56855bda-8a4c-4806-f461-28848e91c7bc"
      },
      "outputs": [
        {
          "name": "stdout",
          "output_type": "stream",
          "text": [
            "2\n"
          ]
        }
      ],
      "source": [
        "print(_)"
      ]
    },
    {
      "cell_type": "code",
      "execution_count": null,
      "metadata": {
        "id": "-hqlv1FjTzjU",
        "outputId": "537cc075-4c41-4307-a20c-40550ab3ee4c"
      },
      "outputs": [
        {
          "data": {
            "text/plain": [
              "False"
            ]
          },
          "execution_count": 30,
          "metadata": {},
          "output_type": "execute_result"
        }
      ],
      "source": [
        "0>5"
      ]
    },
    {
      "cell_type": "code",
      "execution_count": null,
      "metadata": {
        "id": "MYfrLMGFTzjV",
        "outputId": "562cba36-e021-4ef3-a532-9407025132b8"
      },
      "outputs": [
        {
          "name": "stdout",
          "output_type": "stream",
          "text": [
            "False\n"
          ]
        }
      ],
      "source": [
        "print(_)"
      ]
    },
    {
      "cell_type": "code",
      "execution_count": null,
      "metadata": {
        "id": "gDrLHzZzTzjW",
        "outputId": "d1d8134f-c1a9-42bd-e077-e88ea106d17b"
      },
      "outputs": [
        {
          "data": {
            "text/plain": [
              "14.0"
            ]
          },
          "execution_count": 32,
          "metadata": {},
          "output_type": "execute_result"
        }
      ],
      "source": [
        "''' There is a full support for floating point;\n",
        "operators for mixed type operands convert the integer operand to floatig point'''\n",
        "\n",
        "4 * 3.75 - 1"
      ]
    },
    {
      "cell_type": "markdown",
      "metadata": {
        "id": "oTyTl9zfTzjY"
      },
      "source": [
        "# <font color=red> Chapter 2: Variables</font>"
      ]
    },
    {
      "cell_type": "markdown",
      "metadata": {
        "id": "1SOkO0tCTzjZ"
      },
      "source": [
        "#  Variable in python"
      ]
    },
    {
      "cell_type": "code",
      "execution_count": null,
      "metadata": {
        "id": "QMVEsCYFTzjZ"
      },
      "outputs": [],
      "source": [
        "x=5\n",
        "y=\"Python\"\n",
        "z=26.87\n",
        "x=6\n",
        "y=202"
      ]
    },
    {
      "cell_type": "code",
      "execution_count": null,
      "metadata": {
        "id": "N0YqalXgTzjb",
        "outputId": "32a08766-1f88-413e-8d70-38fa5ca5b7e5"
      },
      "outputs": [
        {
          "name": "stdout",
          "output_type": "stream",
          "text": [
            "6\n"
          ]
        }
      ],
      "source": [
        "print(x)"
      ]
    },
    {
      "cell_type": "code",
      "execution_count": null,
      "metadata": {
        "id": "i72IHjRiTzjc"
      },
      "outputs": [],
      "source": [
        "x, y, z=5, \"Python\", 26.87"
      ]
    },
    {
      "cell_type": "code",
      "execution_count": null,
      "metadata": {
        "id": "-M_ineRfTzje",
        "outputId": "8e319e96-42d0-40aa-c356-c14bb5ae2c28"
      },
      "outputs": [
        {
          "name": "stdout",
          "output_type": "stream",
          "text": [
            "Python\n"
          ]
        }
      ],
      "source": [
        "print(y)"
      ]
    },
    {
      "cell_type": "markdown",
      "metadata": {
        "id": "daxh9nB-Tzjf"
      },
      "source": [
        "# Variables are case sensitive"
      ]
    },
    {
      "cell_type": "code",
      "execution_count": null,
      "metadata": {
        "id": "t5sQbW_mTzjf",
        "outputId": "c9a40532-bd93-44fb-8533-5ee493b667e5"
      },
      "outputs": [
        {
          "ename": "NameError",
          "evalue": "name 'Z' is not defined",
          "output_type": "error",
          "traceback": [
            "\u001b[0;31m---------------------------------------------------------------------------\u001b[0m",
            "\u001b[0;31mNameError\u001b[0m                                 Traceback (most recent call last)",
            "\u001b[0;32m<ipython-input-42-fb5bcf912ef3>\u001b[0m in \u001b[0;36m<module>\u001b[0;34m\u001b[0m\n\u001b[0;32m----> 1\u001b[0;31m \u001b[0mprint\u001b[0m\u001b[0;34m(\u001b[0m\u001b[0mZ\u001b[0m\u001b[0;34m)\u001b[0m\u001b[0;34m\u001b[0m\u001b[0;34m\u001b[0m\u001b[0m\n\u001b[0m",
            "\u001b[0;31mNameError\u001b[0m: name 'Z' is not defined"
          ]
        }
      ],
      "source": [
        "print(Z)"
      ]
    },
    {
      "cell_type": "markdown",
      "metadata": {
        "id": "m1wyLWjDTzjg"
      },
      "source": [
        "# Rules of Naming Variable\n",
        "##  <font color=blue> - Contain letters (capital, small) </font>"
      ]
    },
    {
      "cell_type": "code",
      "execution_count": null,
      "metadata": {
        "id": "UjU19pTvTzjh"
      },
      "outputs": [],
      "source": [
        "age=25\n",
        "Height=150\n",
        "WEIGTH=75"
      ]
    },
    {
      "cell_type": "markdown",
      "metadata": {
        "id": "3E0YkS_UTzjh"
      },
      "source": [
        "##  <font color=blue> - Contain underscores (_) </font>"
      ]
    },
    {
      "cell_type": "code",
      "execution_count": null,
      "metadata": {
        "id": "EoIpPjOETzjh"
      },
      "outputs": [],
      "source": [
        "_=150\n",
        "_age=22\n",
        "width_=5"
      ]
    },
    {
      "cell_type": "markdown",
      "metadata": {
        "id": "MPAnjgI7Tzji"
      },
      "source": [
        "##  <font color=blue> - Contain digits [0...9] </font>"
      ]
    },
    {
      "cell_type": "code",
      "execution_count": null,
      "metadata": {
        "id": "M_IKu2vVTzji"
      },
      "outputs": [],
      "source": [
        "age2=30"
      ]
    },
    {
      "cell_type": "markdown",
      "metadata": {
        "id": "Qoo3VvW0Tzjj"
      },
      "source": [
        "##  <font color=blue> - **Never** start with digit </font>"
      ]
    },
    {
      "cell_type": "code",
      "execution_count": null,
      "metadata": {
        "id": "GHiPOIxWTzjj",
        "outputId": "966a0323-c8dd-4be0-c07f-934a15082523"
      },
      "outputs": [
        {
          "ename": "SyntaxError",
          "evalue": "invalid syntax (<ipython-input-52-106cb3ab9f2f>, line 1)",
          "output_type": "error",
          "traceback": [
            "\u001b[0;36m  File \u001b[0;32m\"<ipython-input-52-106cb3ab9f2f>\"\u001b[0;36m, line \u001b[0;32m1\u001b[0m\n\u001b[0;31m    2age=25\u001b[0m\n\u001b[0m       ^\u001b[0m\n\u001b[0;31mSyntaxError\u001b[0m\u001b[0;31m:\u001b[0m invalid syntax\n"
          ]
        }
      ],
      "source": [
        "2age=25"
      ]
    },
    {
      "cell_type": "code",
      "execution_count": null,
      "metadata": {
        "id": "0RLc6HLGTzjj"
      },
      "outputs": [],
      "source": [
        "age2=25"
      ]
    },
    {
      "cell_type": "markdown",
      "metadata": {
        "id": "8g0OTtemTzjk"
      },
      "source": [
        "# Variables are case sensitive"
      ]
    },
    {
      "cell_type": "code",
      "execution_count": null,
      "metadata": {
        "id": "si6v91FBTzjk",
        "outputId": "4cb703a2-424a-4bbe-9240-1970d47b088c"
      },
      "outputs": [
        {
          "name": "stdout",
          "output_type": "stream",
          "text": [
            "age 25\n",
            "Age 30\n",
            "AGE 35\n"
          ]
        }
      ],
      "source": [
        "age=25\n",
        "Age=30\n",
        "AGE=35\n",
        "print(\"age\", age)\n",
        "print(\"Age\",Age)\n",
        "print(\"AGE\", AGE)"
      ]
    },
    {
      "cell_type": "code",
      "execution_count": null,
      "metadata": {
        "id": "_fql8FiMTzjl",
        "outputId": "fc91d7d0-baee-4548-bfb3-50c68e44852b"
      },
      "outputs": [
        {
          "ename": "NameError",
          "evalue": "name 'AgE' is not defined",
          "output_type": "error",
          "traceback": [
            "\u001b[0;31m---------------------------------------------------------------------------\u001b[0m",
            "\u001b[0;31mNameError\u001b[0m                                 Traceback (most recent call last)",
            "\u001b[0;32m<ipython-input-57-b264ba5ca17f>\u001b[0m in \u001b[0;36m<module>\u001b[0;34m\u001b[0m\n\u001b[0;32m----> 1\u001b[0;31m \u001b[0mprint\u001b[0m\u001b[0;34m(\u001b[0m\u001b[0;34m\"AgE\"\u001b[0m\u001b[0;34m,\u001b[0m \u001b[0mAgE\u001b[0m\u001b[0;34m)\u001b[0m\u001b[0;34m\u001b[0m\u001b[0;34m\u001b[0m\u001b[0m\n\u001b[0m",
            "\u001b[0;31mNameError\u001b[0m: name 'AgE' is not defined"
          ]
        }
      ],
      "source": [
        "print(\"AgE\", AgE)"
      ]
    },
    {
      "cell_type": "markdown",
      "metadata": {
        "id": "Myyi832TTzjl"
      },
      "source": [
        "# Variable Naming Convention\n",
        "# <font color=blue>1- Gamel Case</font>"
      ]
    },
    {
      "cell_type": "code",
      "execution_count": null,
      "metadata": {
        "id": "MmLIT7WmTzjm"
      },
      "outputs": [],
      "source": [
        "firstName=\"zeinab\"\n",
        "lastName=\"ezz\""
      ]
    },
    {
      "cell_type": "markdown",
      "metadata": {
        "id": "A2_KtRSeTzjm"
      },
      "source": [
        "# <font color=\"blue\"> 2- Underscore </font>"
      ]
    },
    {
      "cell_type": "code",
      "execution_count": null,
      "metadata": {
        "id": "Sq3xpgPVTzjm"
      },
      "outputs": [],
      "source": [
        "first_name=\"zeinab\"\n",
        "last_name=\"ezz\"\n",
        "course_name=\"python\""
      ]
    },
    {
      "cell_type": "markdown",
      "metadata": {
        "id": "62qY4LYNTzjm"
      },
      "source": [
        "# Arithmetic operations on variables"
      ]
    },
    {
      "cell_type": "code",
      "execution_count": null,
      "metadata": {
        "id": "AGn3QFTdTzjn",
        "outputId": "bd53f3fa-f6ed-4163-a3d7-51068da300c8"
      },
      "outputs": [
        {
          "name": "stdout",
          "output_type": "stream",
          "text": [
            "11\n",
            "25\n"
          ]
        }
      ],
      "source": [
        "x=2\n",
        "y=3\n",
        "z=x+y**2\n",
        "print(z)\n",
        "m=(x+y)**2\n",
        "print(m)"
      ]
    },
    {
      "cell_type": "markdown",
      "metadata": {
        "id": "ee9vL979Tzjn"
      },
      "source": [
        "# <font color=red>Assignment operators</font>\n",
        "![Picture2.png](attachment:Picture2.png)"
      ]
    },
    {
      "cell_type": "code",
      "execution_count": null,
      "metadata": {
        "id": "jOh4TqxKTzjo",
        "outputId": "a46c5c62-f189-4163-8f2e-4882f0ae62ea"
      },
      "outputs": [
        {
          "name": "stdout",
          "output_type": "stream",
          "text": [
            "4\n"
          ]
        }
      ],
      "source": [
        "x=3\n",
        "x=x+1\n",
        "print(x)"
      ]
    },
    {
      "cell_type": "code",
      "execution_count": null,
      "metadata": {
        "id": "L78FfgwYTzjo",
        "outputId": "386b125d-a0df-4e14-d985-748ceddfa68e"
      },
      "outputs": [
        {
          "name": "stdout",
          "output_type": "stream",
          "text": [
            "4\n"
          ]
        }
      ],
      "source": [
        "x=3\n",
        "x+=1\n",
        "print(x)"
      ]
    }
  ],
  "metadata": {
    "kernelspec": {
      "display_name": "Python 3",
      "language": "python",
      "name": "python3"
    },
    "language_info": {
      "codemirror_mode": {
        "name": "ipython",
        "version": 3
      },
      "file_extension": ".py",
      "mimetype": "text/x-python",
      "name": "python",
      "nbconvert_exporter": "python",
      "pygments_lexer": "ipython3",
      "version": "3.7.6"
    },
    "colab": {
      "name": "CourseLab2.ipynb",
      "provenance": [],
      "include_colab_link": true
    }
  },
  "nbformat": 4,
  "nbformat_minor": 0
}