{
  "cells": [
    {
      "cell_type": "markdown",
      "metadata": {
        "id": "view-in-github",
        "colab_type": "text"
      },
      "source": [
        "<a href=\"https://colab.research.google.com/github/zeinabezz/pythone_course/blob/main/CourseLab1.ipynb\" target=\"_parent\"><img src=\"https://colab.research.google.com/assets/colab-badge.svg\" alt=\"Open In Colab\"/></a>"
      ]
    },
    {
      "cell_type": "markdown",
      "metadata": {
        "id": "u5NvUsEk-Jb0"
      },
      "source": [
        "# <font color=red> Chapter 1</font>"
      ]
    },
    {
      "cell_type": "markdown",
      "metadata": {
        "id": "121llV-0-Jb5"
      },
      "source": [
        "# Comments In python\n",
        "## <font color=blue> - one line comment</font>"
      ]
    },
    {
      "cell_type": "code",
      "execution_count": null,
      "metadata": {
        "id": "LJVGJXLB-Jb8",
        "outputId": "6ae81a2d-8a66-4a98-b6a5-fe578e4f20b2"
      },
      "outputs": [
        {
          "name": "stdout",
          "output_type": "stream",
          "text": [
            "This is the first lecture in Python course\n",
            "Its main topic is introduction about python\n"
          ]
        }
      ],
      "source": [
        "#print(\"hello, Zeinab\")\n",
        "print(\"This is the first lecture in Python course\")\n",
        "print(\"Its main topic is introduction about python\")"
      ]
    },
    {
      "cell_type": "markdown",
      "metadata": {
        "id": "fHKwFWNF-Jb_"
      },
      "source": [
        "## <font color=blue> - Multi line comment</font>"
      ]
    },
    {
      "cell_type": "code",
      "execution_count": null,
      "metadata": {
        "id": "fgyYiftA-JcA",
        "outputId": "b2013657-63b1-4ed5-9247-82c042e51a9f"
      },
      "outputs": [
        {
          "name": "stdout",
          "output_type": "stream",
          "text": [
            "finish\n"
          ]
        }
      ],
      "source": [
        "\"\"\" This is a multi-line comment\n",
        "it is used to write comment in more than one line \n",
        "\"\"\"\n",
        "\n",
        "print(\"finish\")"
      ]
    },
    {
      "cell_type": "code",
      "execution_count": null,
      "metadata": {
        "id": "FM6hvIt3-JcB",
        "outputId": "dbcfdb63-0dad-4a03-e21c-7219eaba93ba"
      },
      "outputs": [
        {
          "name": "stdout",
          "output_type": "stream",
          "text": [
            "finish\n"
          ]
        }
      ],
      "source": [
        "''' This is a multi-line comment\n",
        "it is used to write comment in more than one line \n",
        "'''\n",
        "\n",
        "print(\"finish\")"
      ]
    },
    {
      "cell_type": "markdown",
      "metadata": {
        "id": "F4G6FzIA-JcD"
      },
      "source": [
        "# Using python as a calculator"
      ]
    },
    {
      "cell_type": "code",
      "execution_count": null,
      "metadata": {
        "id": "fpMwOlS9-JcE",
        "outputId": "e04bcfdb-b8cd-49e7-907b-09eb07a1a67b"
      },
      "outputs": [
        {
          "data": {
            "text/plain": [
              "7"
            ]
          },
          "execution_count": 18,
          "metadata": {},
          "output_type": "execute_result"
        }
      ],
      "source": [
        "2+5"
      ]
    },
    {
      "cell_type": "code",
      "execution_count": null,
      "metadata": {
        "id": "R88jF1hg-JcF",
        "outputId": "4e06980e-ba76-4134-fa2d-9de0d6990e9d"
      },
      "outputs": [
        {
          "data": {
            "text/plain": [
              "10"
            ]
          },
          "execution_count": 19,
          "metadata": {},
          "output_type": "execute_result"
        }
      ],
      "source": [
        "2*5"
      ]
    },
    {
      "cell_type": "code",
      "execution_count": null,
      "metadata": {
        "id": "_QPhxjRI-JcH",
        "outputId": "70a1c31e-1396-44ab-f000-8b3755b17f9e"
      },
      "outputs": [
        {
          "data": {
            "text/plain": [
              "-3"
            ]
          },
          "execution_count": 20,
          "metadata": {},
          "output_type": "execute_result"
        }
      ],
      "source": [
        "2-5"
      ]
    },
    {
      "cell_type": "code",
      "execution_count": null,
      "metadata": {
        "id": "oZlMLhMD-JcI",
        "outputId": "2d41ec10-b06b-456d-f398-ceae02d6fefe"
      },
      "outputs": [
        {
          "data": {
            "text/plain": [
              "0.4"
            ]
          },
          "execution_count": 21,
          "metadata": {},
          "output_type": "execute_result"
        }
      ],
      "source": [
        "2/5   # division, the output is float"
      ]
    },
    {
      "cell_type": "code",
      "execution_count": null,
      "metadata": {
        "id": "oRdQkW_M-JcJ",
        "outputId": "eb719daf-2521-478d-a4fe-dc8ec308e8ab"
      },
      "outputs": [
        {
          "data": {
            "text/plain": [
              "0"
            ]
          },
          "execution_count": 22,
          "metadata": {},
          "output_type": "execute_result"
        }
      ],
      "source": [
        "2//5   # the // opertator is floor division, i.e., discard the fraction part"
      ]
    },
    {
      "cell_type": "code",
      "execution_count": null,
      "metadata": {
        "id": "ty3_Bz5T-JcJ",
        "outputId": "36b3bc8d-1219-4e4c-ea2d-5e087d3e981c"
      },
      "outputs": [
        {
          "data": {
            "text/plain": [
              "32"
            ]
          },
          "execution_count": 23,
          "metadata": {},
          "output_type": "execute_result"
        }
      ],
      "source": [
        "2**5   # power"
      ]
    },
    {
      "cell_type": "code",
      "execution_count": null,
      "metadata": {
        "id": "gunaod_U-JcK",
        "outputId": "dd27b56f-ee6c-4bf3-ab0b-6f81fb80f04e"
      },
      "outputs": [
        {
          "data": {
            "text/plain": [
              "2"
            ]
          },
          "execution_count": 28,
          "metadata": {},
          "output_type": "execute_result"
        }
      ],
      "source": [
        "2%5  # the modelus operator % returns the reminder of the division"
      ]
    },
    {
      "cell_type": "markdown",
      "metadata": {
        "id": "1pNCZzZ7-JcL"
      },
      "source": [
        "# The  <font color=blue> **_** </font> variable"
      ]
    },
    {
      "cell_type": "code",
      "execution_count": null,
      "metadata": {
        "id": "MEYBRFJ9-JcL",
        "outputId": "dcad2b92-4f87-4717-b569-50569d6e13b8"
      },
      "outputs": [
        {
          "name": "stdout",
          "output_type": "stream",
          "text": [
            "2\n"
          ]
        }
      ],
      "source": [
        "print(_)"
      ]
    },
    {
      "cell_type": "code",
      "execution_count": null,
      "metadata": {
        "id": "6UiiDM4N-JcM",
        "outputId": "76eca8a5-2c94-4285-e072-69c0069e120a"
      },
      "outputs": [
        {
          "data": {
            "text/plain": [
              "False"
            ]
          },
          "execution_count": 30,
          "metadata": {},
          "output_type": "execute_result"
        }
      ],
      "source": [
        "0>5"
      ]
    },
    {
      "cell_type": "code",
      "execution_count": null,
      "metadata": {
        "id": "wxpMxCAc-JcN",
        "outputId": "5db516ab-bd21-40a3-c86a-fd61d4b301f4"
      },
      "outputs": [
        {
          "name": "stdout",
          "output_type": "stream",
          "text": [
            "False\n"
          ]
        }
      ],
      "source": [
        "print(_)"
      ]
    },
    {
      "cell_type": "code",
      "execution_count": null,
      "metadata": {
        "id": "mdvjYQ9b-JcN",
        "outputId": "80e33a76-7876-4279-b811-6cc2ac7dad30"
      },
      "outputs": [
        {
          "data": {
            "text/plain": [
              "14.0"
            ]
          },
          "execution_count": 32,
          "metadata": {},
          "output_type": "execute_result"
        }
      ],
      "source": [
        "''' There is a full support for floating point;\n",
        "operators for mixed type operands convert the integer operand to floatig point'''\n",
        "\n",
        "4 * 3.75 - 1"
      ]
    }
  ],
  "metadata": {
    "kernelspec": {
      "display_name": "Python 3",
      "language": "python",
      "name": "python3"
    },
    "language_info": {
      "codemirror_mode": {
        "name": "ipython",
        "version": 3
      },
      "file_extension": ".py",
      "mimetype": "text/x-python",
      "name": "python",
      "nbconvert_exporter": "python",
      "pygments_lexer": "ipython3",
      "version": "3.7.6"
    },
    "colab": {
      "name": "CourseLab1.ipynb",
      "provenance": [],
      "include_colab_link": true
    }
  },
  "nbformat": 4,
  "nbformat_minor": 0
}